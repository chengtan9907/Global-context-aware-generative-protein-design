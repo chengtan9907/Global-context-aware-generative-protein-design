{
 "cells": [
  {
   "cell_type": "code",
   "execution_count": 1,
   "metadata": {},
   "outputs": [],
   "source": [
    "import os\n",
    "from data import CATH_Loader\n",
    "import torch\n",
    "import json\n",
    "from main import Exp\n",
    "import argparse"
   ]
  },
  {
   "cell_type": "markdown",
   "metadata": {},
   "source": [
    "# GCA"
   ]
  },
  {
   "cell_type": "code",
   "execution_count": 2,
   "metadata": {},
   "outputs": [
    {
     "name": "stdout",
     "output_type": "stream",
     "text": [
      "Using GPU:  cuda\n",
      "./experiments/gca_full_0.11134406062851226_2021.09.22-13:13:18\n",
      "Number of parameters: 2089748\n"
     ]
    },
    {
     "data": {
      "text/plain": [
       "<All keys matched successfully>"
      ]
     },
     "execution_count": 2,
     "metadata": {},
     "output_type": "execute_result"
    }
   ],
   "source": [
    "svpath = 'experiments/gca_pretrained/'\n",
    "config = json.load(open(svpath+'model_param.json','r'))\n",
    "exp = Exp(argparse.Namespace(**config))\n",
    "exp.model.load_state_dict(torch.load(os.path.join(svpath, 'gca_pretrained.pt')))"
   ]
  },
  {
   "cell_type": "markdown",
   "metadata": {},
   "source": [
    "## 1. test all"
   ]
  },
  {
   "cell_type": "code",
   "execution_count": 3,
   "metadata": {},
   "outputs": [
    {
     "name": "stderr",
     "output_type": "stream",
     "text": [
      "100%|██████████| 21668/21668 [01:42<00:00, 211.16it/s]\n"
     ]
    }
   ],
   "source": [
    "test_cath_loader = CATH_Loader('/usr/data/protein_design_data/chain_set.jsonl', \n",
    "                    '/usr/data/protein_design_data/chain_set_splits.json',\n",
    "                    2500)\n",
    "_, _, test_all_loader = test_cath_loader.get_loader()"
   ]
  },
  {
   "cell_type": "code",
   "execution_count": 4,
   "metadata": {},
   "outputs": [
    {
     "name": "stderr",
     "output_type": "stream",
     "text": [
      "loss: 2.3164: 100%|██████████| 74/74 [00:14<00:00,  5.06it/s]\n",
      "recovery: 0.2719: 100%|██████████| 74/74 [02:43<00:00,  2.21s/it]"
     ]
    },
    {
     "name": "stdout",
     "output_type": "stream",
     "text": [
      "6.435891772561602 0.36117268\n"
     ]
    },
    {
     "name": "stderr",
     "output_type": "stream",
     "text": [
      "\n"
     ]
    }
   ],
   "source": [
    "exp.model.eval()\n",
    "with torch.no_grad():\n",
    "    all_perp = exp.test_perplexity(test_all_loader)\n",
    "    all_reco = exp.test_recovery(test_all_loader)\n",
    "print(all_perp, all_reco)"
   ]
  },
  {
   "cell_type": "markdown",
   "metadata": {},
   "source": [
    "## 2. test short"
   ]
  },
  {
   "cell_type": "code",
   "execution_count": 5,
   "metadata": {},
   "outputs": [
    {
     "name": "stderr",
     "output_type": "stream",
     "text": [
      "100%|██████████| 21668/21668 [01:51<00:00, 194.29it/s]\n"
     ]
    }
   ],
   "source": [
    "test_cath_loader = CATH_Loader('/usr/data/protein_design_data/chain_set.jsonl', \n",
    "                '/usr/data/protein_design_data/chain_set_splits.json',\n",
    "                2500,\n",
    "                test_split_path='/usr/data/protein_design_data/test_split_L100.json')\n",
    "_, _, test_short_loader = test_cath_loader.get_loader()"
   ]
  },
  {
   "cell_type": "code",
   "execution_count": 6,
   "metadata": {},
   "outputs": [
    {
     "name": "stderr",
     "output_type": "stream",
     "text": [
      "loss: 2.3235: 100%|██████████| 3/3 [00:00<00:00,  4.62it/s]\n",
      "recovery: 0.2545: 100%|██████████| 3/3 [00:02<00:00,  1.16it/s]"
     ]
    },
    {
     "name": "stdout",
     "output_type": "stream",
     "text": [
      "7.681553638386941 0.33256814\n"
     ]
    },
    {
     "name": "stderr",
     "output_type": "stream",
     "text": [
      "\n"
     ]
    }
   ],
   "source": [
    "exp.model.eval()\n",
    "with torch.no_grad():\n",
    "    short_perp = exp.test_perplexity(test_short_loader)\n",
    "    short_reco = exp.test_recovery(test_short_loader)\n",
    "print(short_perp, short_reco)"
   ]
  },
  {
   "cell_type": "markdown",
   "metadata": {},
   "source": [
    "## 3. test single chain"
   ]
  },
  {
   "cell_type": "code",
   "execution_count": 7,
   "metadata": {},
   "outputs": [
    {
     "name": "stderr",
     "output_type": "stream",
     "text": [
      "100%|██████████| 21668/21668 [01:58<00:00, 182.95it/s]\n"
     ]
    }
   ],
   "source": [
    "test_cath_loader = CATH_Loader('/usr/data/protein_design_data/chain_set.jsonl', \n",
    "                '/usr/data/protein_design_data/chain_set_splits.json',\n",
    "                2500,\n",
    "                test_split_path='/usr/data/protein_design_data/test_split_sc.json')\n",
    "_, _, test_sc_loader = test_cath_loader.get_loader()"
   ]
  },
  {
   "cell_type": "code",
   "execution_count": 8,
   "metadata": {},
   "outputs": [
    {
     "name": "stderr",
     "output_type": "stream",
     "text": [
      "loss: 2.2557: 100%|██████████| 4/4 [00:01<00:00,  3.50it/s]\n",
      "recovery: 0.3255: 100%|██████████| 4/4 [00:07<00:00,  1.88s/it]"
     ]
    },
    {
     "name": "stdout",
     "output_type": "stream",
     "text": [
      "8.090493919458558 0.33044124\n"
     ]
    },
    {
     "name": "stderr",
     "output_type": "stream",
     "text": [
      "\n"
     ]
    }
   ],
   "source": [
    "exp.model.eval()\n",
    "with torch.no_grad():\n",
    "    sc_perp = exp.test_perplexity(test_sc_loader)\n",
    "    sc_reco = exp.test_recovery(test_sc_loader)\n",
    "print(sc_perp, sc_reco)"
   ]
  }
 ],
 "metadata": {
  "kernelspec": {
   "display_name": "Python 3",
   "language": "python",
   "name": "python3"
  },
  "language_info": {
   "codemirror_mode": {
    "name": "ipython",
    "version": 3
   },
   "file_extension": ".py",
   "mimetype": "text/x-python",
   "name": "python",
   "nbconvert_exporter": "python",
   "pygments_lexer": "ipython3",
   "version": "3.8.5"
  }
 },
 "nbformat": 4,
 "nbformat_minor": 5
}
